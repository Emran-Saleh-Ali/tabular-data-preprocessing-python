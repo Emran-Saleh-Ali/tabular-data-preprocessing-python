{
 "cells": [
  {
   "cell_type": "markdown",
   "metadata": {},
   "source": [
    "# Exercise\n",
    "\n",
    "* Load **sample_dataset.csv**\n",
    "* Numerical variables must be cleaned using the median value, then normalized\n",
    "* Change the scaler to standard scaler and transform the dataset again"
   ]
  },
  {
   "cell_type": "code",
   "execution_count": 3,
   "metadata": {},
   "outputs": [],
   "source": [
    "import pandas as pd\n",
    "from sklearn.preprocessing import StandardScaler, MinMaxScaler\n",
    "from sklearn.impute import SimpleImputer\n",
    "from sklearn.compose import ColumnTransformer, make_column_selector\n",
    "from sklearn.pipeline import Pipeline"
   ]
  },
  {
   "cell_type": "code",
   "execution_count": 4,
   "metadata": {},
   "outputs": [],
   "source": [
    "df = pd.read_csv(\"sample_dataset.csv\")"
   ]
  },
  {
   "cell_type": "code",
   "execution_count": 5,
   "metadata": {},
   "outputs": [],
   "source": [
    "transformer = ColumnTransformer([\n",
    "    ('numerical',Pipeline([\n",
    "        ('cleaner',SimpleImputer(strategy = 'median')),\n",
    "        ('scaler',MinMaxScaler())\n",
    "    ]), make_column_selector(dtype_exclude='object'))\n",
    "])"
   ]
  },
  {
   "cell_type": "code",
   "execution_count": 6,
   "metadata": {},
   "outputs": [
    {
     "data": {
      "text/plain": [
       "array([[0.29812107, 0.0226581 , 0.54598853, ..., 0.59838328, 0.41886396,\n",
       "        0.        ],\n",
       "       [0.64314449, 0.27257355, 0.61578329, ..., 0.23343849, 0.16286239,\n",
       "        0.        ],\n",
       "       [0.60149557, 0.3902604 , 0.59574321, ..., 0.40358833, 0.21343303,\n",
       "        0.        ],\n",
       "       ...,\n",
       "       [0.45525108, 0.62123774, 0.44578813, ..., 0.1285489 , 0.1519087 ,\n",
       "        0.        ],\n",
       "       [0.64456434, 0.66351031, 0.66553797, ..., 0.49704259, 0.45231536,\n",
       "        0.        ],\n",
       "       [0.03686876, 0.30943524, 0.02853984, ..., 0.25729495, 0.10068215,\n",
       "        1.        ]])"
      ]
     },
     "execution_count": 6,
     "metadata": {},
     "output_type": "execute_result"
    }
   ],
   "source": [
    "transformer.fit_transform(df)"
   ]
  },
  {
   "cell_type": "code",
   "execution_count": 7,
   "metadata": {},
   "outputs": [
    {
     "data": {
      "text/plain": [
       "ColumnTransformer(transformers=[('numerical',\n",
       "                                 Pipeline(steps=[('cleaner',\n",
       "                                                  SimpleImputer(strategy='median')),\n",
       "                                                 ('scaler', StandardScaler())]),\n",
       "                                 <sklearn.compose._column_transformer.make_column_selector object at 0x1C569598>)])"
      ]
     },
     "execution_count": 7,
     "metadata": {},
     "output_type": "execute_result"
    }
   ],
   "source": [
    "transformer.set_params(numerical__scaler = StandardScaler())"
   ]
  },
  {
   "cell_type": "code",
   "execution_count": 8,
   "metadata": {},
   "outputs": [
    {
     "data": {
      "text/plain": [
       "array([[-0.20432818, -2.19476665,  1.37036991, ...,  3.03221728,\n",
       "         2.07178429, -1.29767572],\n",
       "       [ 2.05135617, -0.36634812,  1.81225729, ..., -0.24951395,\n",
       "        -0.21771061, -1.29767572],\n",
       "       [ 1.77906506,  0.49466628,  1.68537874, ...,  1.28054226,\n",
       "         0.23455702, -1.29767572],\n",
       "       ...,\n",
       "       [ 0.82295193,  2.18453076,  0.73597713, ..., -1.19272357,\n",
       "        -0.3156726 , -1.29767572],\n",
       "       [ 2.06063882,  2.49380318,  2.12726612, ...,  2.12092077,\n",
       "         2.37094965, -1.29767572],\n",
       "       [-1.91233609, -0.09666258, -1.90572191, ..., -0.03498695,\n",
       "        -0.77380622,  0.77060855]])"
      ]
     },
     "execution_count": 8,
     "metadata": {},
     "output_type": "execute_result"
    }
   ],
   "source": [
    "transformer.fit_transform(df)"
   ]
  }
 ],
 "metadata": {
  "kernelspec": {
   "display_name": "Python 3",
   "language": "python",
   "name": "python3"
  },
  "language_info": {
   "codemirror_mode": {
    "name": "ipython",
    "version": 3
   },
   "file_extension": ".py",
   "mimetype": "text/x-python",
   "name": "python",
   "nbconvert_exporter": "python",
   "pygments_lexer": "ipython3",
   "version": "3.8.5"
  }
 },
 "nbformat": 4,
 "nbformat_minor": 4
}
